{
 "cells": [
  {
   "cell_type": "markdown",
   "id": "38130116-cdcb-4e1e-a85e-e18af0386959",
   "metadata": {},
   "source": [
    "Q1\n"
   ]
  },
  {
   "cell_type": "code",
   "execution_count": null,
   "id": "8f14c325-486a-4e42-a7a7-0a83e671e35a",
   "metadata": {},
   "outputs": [],
   "source": [
    "#QUESTION NUMBWE 1\n",
    "percentage = float(input(\"enter your percentage\"))\n",
    "if percentage  >90:\n",
    "    print(\"Grade: A\")\n",
    "elif percentage  >80 and percentage  <=90:\n",
    "    print(\"Grade: B\")\n",
    "elif percentage  >=60 and percentage  <=80:\n",
    "     print(\"Grade: C\")\n",
    "else:\n",
    "    print(\"Grade: D\")"
   ]
  },
  {
   "cell_type": "markdown",
   "id": "9341baf5-79da-43fc-b275-a5c783afbee3",
   "metadata": {},
   "source": [
    "Q2."
   ]
  },
  {
   "cell_type": "code",
   "execution_count": null,
   "id": "655e4adb-06ae-4d19-80cb-c397b90b4a55",
   "metadata": {},
   "outputs": [],
   "source": [
    "cost_price = float(input(\"price of bike:\"))\n",
    "if cost_price > 100000:\n",
    "     road_tax = cost_price * 0.15\n",
    "elif cost_price >50000 and cost_price <=100000:\n",
    "      road_tax = cost_price * 0.10\n",
    "else:\n",
    "      road_tax = cost_price * 0.05\n",
    "        \n",
    "print(\"The road tax to  paid in Rs:\", road_tax)\n"
   ]
  },
  {
   "cell_type": "markdown",
   "id": "e677cef7-5d8b-4270-bc83-bb179b753a39",
   "metadata": {},
   "source": [
    "Q3.\n"
   ]
  },
  {
   "cell_type": "code",
   "execution_count": null,
   "id": "14a438ea-21d4-4223-982f-ad426011df36",
   "metadata": {},
   "outputs": [],
   "source": [
    "city = input(\"Enter city name: \")\n",
    "\n",
    "if city.lower() == \"delhi\":\n",
    "    monuments = [\"Red Fort\"]\n",
    "elif city.lower() == \"agra\":\n",
    "    monuments = [\"Taj Mahal\"]\n",
    "elif city.lower() == \"jaipur\":\n",
    "    monuments = [\"Jal Mahal\"]\n",
    "else:\n",
    "    monuments = []\n",
    "\n",
    "if monuments:\n",
    "    print(\"Monuments in\", city, \":\")\n",
    "    for monument in monuments:\n",
    "        print(\"- \", monument)\n",
    "else:\n",
    "    print(\"No monuments found for\", city)\n",
    "\n",
    "        "
   ]
  },
  {
   "cell_type": "markdown",
   "id": "b88e2bff-5349-42a8-a79a-16366b773a48",
   "metadata": {},
   "source": [
    "Q4"
   ]
  },
  {
   "cell_type": "code",
   "execution_count": 4,
   "id": "49ee9375-878a-4513-8af0-045fd6f03049",
   "metadata": {},
   "outputs": [
    {
     "name": "stdin",
     "output_type": "stream",
     "text": [
      "Enter a number:  6778\n"
     ]
    },
    {
     "name": "stdout",
     "output_type": "stream",
     "text": [
      "The number can be divided by 3 6 times before it is less than or equal to 10.\n"
     ]
    }
   ],
   "source": [
    "number = int(input(\"Enter a number: \"))\n",
    "\n",
    "count = 0\n",
    "while number > 10:\n",
    "    number = number/3\n",
    "    count  = count +1\n",
    "\n",
    "print(\"The number can be divided by 3\", count, \"times before it is less than or equal to 10.\")\n"
   ]
  },
  {
   "cell_type": "markdown",
   "id": "5075341d-c427-46f2-a258-59ef4e32d7ce",
   "metadata": {},
   "source": [
    "Q5"
   ]
  },
  {
   "cell_type": "markdown",
   "id": "0c0aac70-ef4f-4b35-b5e7-267d3a625f22",
   "metadata": {},
   "source": [
    "the while loop is a control flow statement in Python that allows you to execute a block of code repeatedly as long as a certain condition is true. This makes it useful for cases where you need to repeat a set of instructions until a specific condition is met.\n",
    "\n",
    "The basic syntax of a while loop in Python is as follows:"
   ]
  },
  {
   "cell_type": "markdown",
   "id": "91c9f1fc-95f1-4170-8eae-d09d86362886",
   "metadata": {},
   "source": [
    "while condition:\n",
    "\n",
    "    code to be executed while the condition is true\n",
    "     "
   ]
  },
  {
   "cell_type": "markdown",
   "id": "63537946-05f5-47e9-bdc9-43ed71afa1b9",
   "metadata": {},
   "source": [
    "Here, condition is a Boolean expression that determines whether the loop should continue executing or not. As long as the condition is true, the code inside the loop will be executed repeatedly.\n",
    "\n",
    "Now, let's look at an example of how and when to use a while loop in Python.\n",
    "\n",
    "Suppose you want to write a program that prompts the user to enter a positive integer and keeps prompting them until they enter a valid input. You could use a while loop to achieve this as follows:\n",
    "\n"
   ]
  },
  {
   "cell_type": "code",
   "execution_count": 8,
   "id": "246c4f52-461c-4226-8744-8d9920384024",
   "metadata": {},
   "outputs": [
    {
     "name": "stdin",
     "output_type": "stream",
     "text": [
      "Enter a positive integer:  55\n"
     ]
    }
   ],
   "source": [
    "while True:\n",
    "    num = input(\"Enter a positive integer: \")\n",
    "    if num.isdigit() and int(num) > 0:\n",
    "        break\n",
    "    print(\"Invalid input. Please try again.\")\n"
   ]
  },
  {
   "cell_type": "markdown",
   "id": "52ef9013-2826-4d4f-90ac-5740f7ac5e7f",
   "metadata": {},
   "source": [
    "In this program, the while loop runs indefinitely because its condition is True. Inside the loop, the program prompts the user to enter a positive integer using the input() function and stores the input in a variable called num.\n",
    "\n",
    "The program then uses the isdigit() method to check if num contains only digits, and the int() function to convert num to an integer. If num is a valid positive integer, the break statement is used to exit the loop.\n",
    "\n",
    "If num is not a valid positive integer, the program uses the print() function to display an error message and the loop continues to run.\n",
    "\n",
    "As you can see, the while loop allows the program to repeatedly prompt the user for input until a valid input is received. This is just one example of how and when to use a while loop in Python, but there are many other use cases where a while loop can be useful.\n",
    "\n",
    "\n"
   ]
  },
  {
   "cell_type": "markdown",
   "id": "7c2c0387-86cd-4450-8f89-6cbc183b5d09",
   "metadata": {},
   "source": [
    "Q6"
   ]
  },
  {
   "cell_type": "code",
   "execution_count": 9,
   "id": "5a8b2b91-16a8-4e1a-9a74-e522f403c56b",
   "metadata": {},
   "outputs": [
    {
     "name": "stdout",
     "output_type": "stream",
     "text": [
      "1\n",
      "12\n",
      "123\n",
      "1234\n",
      "12345\n"
     ]
    }
   ],
   "source": [
    "i = 1\n",
    "while i <= 5:\n",
    "    j = 1\n",
    "    while j <= i:\n",
    "        print(j, end=\"\")\n",
    "        j += 1\n",
    "    print()\n",
    "    i += 1\n"
   ]
  },
  {
   "cell_type": "code",
   "execution_count": 10,
   "id": "d2d92b62-0876-48d9-a8e1-bb4575de455a",
   "metadata": {},
   "outputs": [
    {
     "name": "stdout",
     "output_type": "stream",
     "text": [
      "55555\n",
      "4444\n",
      "333\n",
      "22\n",
      "1\n"
     ]
    }
   ],
   "source": [
    "i = 5\n",
    "while i >= 1:\n",
    "    j = 1\n",
    "    while j <= i:\n",
    "        print(i, end=\"\")\n",
    "        j += 1\n",
    "    print()\n",
    "    i -= 1\n"
   ]
  },
  {
   "cell_type": "code",
   "execution_count": 11,
   "id": "e541612c-0b66-4dbf-9e66-dc366060f638",
   "metadata": {},
   "outputs": [
    {
     "name": "stdout",
     "output_type": "stream",
     "text": [
      "*****\n",
      "****\n",
      "***\n",
      "**\n",
      "*\n"
     ]
    }
   ],
   "source": [
    "i = 5\n",
    "while i >= 1:\n",
    "    j = 1\n",
    "    while j <= i:\n",
    "        print(\"*\", end=\"\")\n",
    "        j += 1\n",
    "    print()\n",
    "    i -= 1\n"
   ]
  },
  {
   "cell_type": "markdown",
   "id": "57596f29-2401-4e4c-b38a-edeaf9edd122",
   "metadata": {},
   "source": [
    "Q7"
   ]
  },
  {
   "cell_type": "code",
   "execution_count": 13,
   "id": "ab41e48a-04d3-4f7e-9c0d-bb587688ef42",
   "metadata": {},
   "outputs": [],
   "source": [
    "#7. Reverse a while loop to display numbers from 10 to 1. "
   ]
  },
  {
   "cell_type": "code",
   "execution_count": null,
   "id": "52756bb4-4104-4638-a595-89f63d829f2c",
   "metadata": {},
   "outputs": [],
   "source": [
    "i = 0\n",
    "while i in range("
   ]
  }
 ],
 "metadata": {
  "kernelspec": {
   "display_name": "Python 3 (ipykernel)",
   "language": "python",
   "name": "python3"
  },
  "language_info": {
   "codemirror_mode": {
    "name": "ipython",
    "version": 3
   },
   "file_extension": ".py",
   "mimetype": "text/x-python",
   "name": "python",
   "nbconvert_exporter": "python",
   "pygments_lexer": "ipython3",
   "version": "3.10.8"
  }
 },
 "nbformat": 4,
 "nbformat_minor": 5
}
